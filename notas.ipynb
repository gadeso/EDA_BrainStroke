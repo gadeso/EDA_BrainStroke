{
 "cells": [
  {
   "cell_type": "markdown",
   "metadata": {},
   "source": [
    "## Análisis profundo del Dataset\n",
    "\n",
    "#### Combino distintos parámetros para tener un análisis más profundo:\n",
    "\n",
    "1) Combinar hipertensión y tabaquismo aumenta significativamente el riesgo de accidentes cerebrovasculares.\n",
    "Pista para el Análisis: regresión logística para evaluar las interacciones entre hipertensión y tabaquismo.\n",
    "\n",
    "2) La diabetes tiene un impacto diferencial en el riesgo de accidentes cerebrovasculares entre hombres y mujeres.\n",
    "Análisis: por género y realizar pruebas de interacción para determinar diferencias.\n",
    "\n",
    "3) Las personas con un historial familiar de ACVs presentan un mayor riesgo al combinarse con un estilo de vida sedentario y una dieta poco saludable.\n",
    "Análisis: regresión múltiple controlando por estilo de vida y dieta.\n",
    "\n",
    "4) La prevalencia de ACVs es mayor en individuos de bajos ingresos y niveles educativos más bajos.\n",
    "Análisis: modelos de regresión ajustados por ingresos, educación y compararlo con otros factores de riesgo clínicos.\n",
    "\n",
    "5) La presencia de enfermedades cardíacas empeora la recuperación post-ACV.\n",
    "Análisis: evaluar los resultados de pacientes con y sin enfermedades cardíacas comórbidas.\n",
    "\n",
    "6) Evaluar la correlación entre el estatus social y civil con la tendencia a sufrir accidentes cerebrovasculares."
   ]
  }
 ],
 "metadata": {
  "language_info": {
   "name": "python"
  }
 },
 "nbformat": 4,
 "nbformat_minor": 2
}

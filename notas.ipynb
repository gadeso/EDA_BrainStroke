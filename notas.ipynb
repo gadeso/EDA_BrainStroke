{
 "cells": [
  {
   "cell_type": "markdown",
   "metadata": {},
   "source": [
    "## Presentación del EDA en Prezi:\n",
    "\n",
    "https://prezi.com/view/YacpWsRuCiGyXmfl9OnL/"
   ]
  }
 ],
 "metadata": {
  "language_info": {
   "name": "python"
  }
 },
 "nbformat": 4,
 "nbformat_minor": 2
}
